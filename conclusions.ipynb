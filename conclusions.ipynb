{
 "cells": [
  {
   "cell_type": "markdown",
   "metadata": {},
   "source": [
    "# PCLASS\n",
    "### - notiamo che la maggior parte delle persone è in 3° classe, circa il 55% del totale"
   ]
  },
  {
   "cell_type": "markdown",
   "metadata": {},
   "source": [
    "![pclass](./img/1.jpg)"
   ]
  },
  {
   "cell_type": "markdown",
   "metadata": {},
   "source": [
    "# PCLASS - SURVIVED\n",
    "### - la % di persone morta in 3° classe è molto alta 75%, contro 25% sopravvissute\n",
    "### - la % di persone morta in 1° classe è del 37% circa, contro 62% sopravvissute\n",
    "### - classe 2° sembrano simili i valori"
   ]
  },
  {
   "cell_type": "markdown",
   "metadata": {},
   "source": [
    "![pclass_survived](./img/2.jpg)"
   ]
  },
  {
   "cell_type": "markdown",
   "metadata": {},
   "source": [
    "# SEX - SURVIVED\n",
    "### - notiamo che la maggior parte delle persone è uomo circa il 65%\n",
    "### - di questo 65% abbiamo che l'81% è morto ed il 19% è sopravvissuto\n",
    "### - il restante 35% è composto da donne ed il 74% di esse è sopravvissuto mentre il 26% è morta "
   ]
  },
  {
   "cell_type": "markdown",
   "metadata": {},
   "source": [
    "![sex](./img/4.jpg)"
   ]
  },
  {
   "cell_type": "markdown",
   "metadata": {},
   "source": [
    "![sex_survived](./img/3.jpg)"
   ]
  },
  {
   "cell_type": "markdown",
   "metadata": {},
   "source": [
    "# SEX - PCLASS - SURVIVED --> sorta di conferma delle ipotesi di sopra\n",
    "### - da qui notiamo che la > parte delle persone stava in 3° classe, erano uomini e sono morti\n",
    "### - di tutte le donne in 1° classe solo 3 sono morte, quindi chi era donna e stava in 1° classe si salvava\n",
    "### - qui dice anche che i maschi di 1°, 2° e 3° classe muoiono maggiormente"
   ]
  },
  {
   "cell_type": "markdown",
   "metadata": {},
   "source": [
    "![sex_pclass_surv](./img/5.jpg)"
   ]
  },
  {
   "cell_type": "markdown",
   "metadata": {},
   "source": [
    "# --------------------------\n",
    "# GENERALE\n",
    "# --------------------------"
   ]
  },
  {
   "cell_type": "markdown",
   "metadata": {},
   "source": [
    "- 891 passeggeri\n",
    "\n",
    "    - not surv(0) --> 549 (62%)\n",
    "    - surv(1) --> 342 (38%)"
   ]
  },
  {
   "cell_type": "markdown",
   "metadata": {},
   "source": [
    "- 891 passeggeri\n",
    "\n",
    "    - 1° classe --> 184 (21%)\n",
    "    - 2° classe --> 216 (24%)\n",
    "    - 3° classe --> 491 (55%)"
   ]
  },
  {
   "cell_type": "markdown",
   "metadata": {},
   "source": [
    "- 891 passeggeri\n",
    "\n",
    "    - 1° classe --> 184 (55%)\n",
    "        - not surv(0) --> 80 (37%)\n",
    "        - surv(1) --> 136 (63%)\n",
    "    - 2° classe --> 216 (24%)\n",
    "        - not surv(0) --> 97 (53%)\n",
    "        - surv(1) --> 87 (47%)   \n",
    "    - 3° classe --> 491 (21%)\n",
    "        - not surv(0) --> 372 (76%)\n",
    "        - surv(1) --> 119 (24%)"
   ]
  },
  {
   "cell_type": "markdown",
   "metadata": {},
   "source": [
    "- 891 passeggeri\n",
    "\n",
    "    - Male 577 (65%)\n",
    "        - not surv(0) --> 468 (81%)\n",
    "        - surv(1) --> 109 (19%)\n",
    "    - Female 314 (35%)\n",
    "        - not surv(0) --> 81 (26%)\n",
    "        - surv(1) --> 233 (74%)"
   ]
  },
  {
   "cell_type": "markdown",
   "metadata": {},
   "source": [
    "- 891 passeggeri\n",
    "\n",
    "    - Male 577\n",
    "        - 1° classe --> 122 (55%)\n",
    "            - not surv(0) --> 80 (37%)\n",
    "            - surv(1) --> 136 (63%)\n",
    "        - 2° classe --> 188 (24%)\n",
    "            - not surv(0) --> 97 (53%)\n",
    "            - surv(1) --> 87 (47%)   \n",
    "        - 3° classe --> 347 (21%)\n",
    "            - not surv(0) --> 372 (76%)\n",
    "            - surv(1) --> 119 (24%) - Male 577\n",
    "    - Female 314 (35%)\n",
    "        - 1° classe --> 184 (55%)\n",
    "            - not surv(0) --> 80 (37%)\n",
    "            - surv(1) --> 136 (63%)\n",
    "        - 2° classe --> 216 (24%)\n",
    "            - not surv(0) --> 97 (53%)\n",
    "            - surv(1) --> 87 (47%)   \n",
    "        - 3° classe --> 491 (21%)\n",
    "            - not surv(0) --> 372 (76%)\n",
    "            - surv(1) --> 119 (24%)"
   ]
  }
 ],
 "metadata": {
  "kernelspec": {
   "display_name": "Python 3.9.12 ('master_ds')",
   "language": "python",
   "name": "python3"
  },
  "language_info": {
   "name": "python",
   "version": "3.9.12"
  },
  "orig_nbformat": 4,
  "vscode": {
   "interpreter": {
    "hash": "407890cd39e3cb73d4930ee26f2c62d7b8a1df071f6fc6147d35eb730c54794f"
   }
  }
 },
 "nbformat": 4,
 "nbformat_minor": 2
}
